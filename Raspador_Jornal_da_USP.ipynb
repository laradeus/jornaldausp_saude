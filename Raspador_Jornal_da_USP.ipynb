{
  "nbformat": 4,
  "nbformat_minor": 0,
  "metadata": {
    "colab": {
      "name": "Raspador - Jornal da USP.ipynb",
      "provenance": [],
      "collapsed_sections": [],
      "include_colab_link": true
    },
    "kernelspec": {
      "name": "python3",
      "display_name": "Python 3"
    },
    "language_info": {
      "name": "python"
    }
  },
  "cells": [
    {
      "cell_type": "markdown",
      "metadata": {
        "id": "view-in-github",
        "colab_type": "text"
      },
      "source": [
        "<a href=\"https://colab.research.google.com/github/laradeus/jornaldausp_saude/blob/main/Raspador_Jornal_da_USP.ipynb\" target=\"_parent\"><img src=\"https://colab.research.google.com/assets/colab-badge.svg\" alt=\"Open In Colab\"/></a>"
      ]
    },
    {
      "cell_type": "markdown",
      "metadata": {
        "id": "wEhJ1gKHwwBD"
      },
      "source": [
        "**Master em Jornalismo de Dados, Automação e Data Storytelling**\n",
        "\n",
        "**Projeto final - Pensamento Computacional**\n",
        "\n",
        "*Aluna: Lara Soares de Freitas Deus*\n",
        "\n",
        "Objetivo: Criar um programa que busque um tema que o usuário decidir na seção de notícias sobre saúde no site da USP e crie um arquivo com as matérias encontradas\n"
      ]
    },
    {
      "cell_type": "code",
      "metadata": {
        "id": "w3MR3TDO2qd_"
      },
      "source": [
        "## Perguntando o tema que o usuário quer pesquisar e transformando ele em uma string limpa para o nome do arquivo e a busca correta\n",
        "tema = input(\"Qual tema relacionado à saúde você gostaria de pesquisar? \")\n",
        "tema = tema.lower()\n",
        "tema = tema.strip()\n",
        "temanome = tema.replace(\" \",\"_\")\n",
        "\n",
        "## Criando o arquivo onde o programa colocará as matéruas encontradas\n",
        "import csv\n",
        "import requests\n",
        "arquivo = open(f\"materias_usp_{temanome}.csv\", mode=\"w\") # Criando arquivo CSV para colocar os links\n",
        "escritor = csv.DictWriter(arquivo, fieldnames =[\"titulo\", \"link\"])\n",
        "escritor.writeheader()\n",
        "# Indicando ao programa de onde ele deve tirar os links na primeira página\n",
        "url = \"https://jornal.usp.br/editorias/ciencias/ciencias-da-saude/\" \n",
        "resposta = requests.get(url)\n",
        "html = resposta.text\n",
        "html = html.split('</section>')\n",
        "html = html[17]\n",
        "html = html.split('<div class=\"elementor-element elementor-element-4165494 elementor-grid-1 elementor-grid-tablet-1 elementor-posts--align-left elementor-hidden-desktop elementor-hidden-tablet elementor-grid-mobile-1 elementor-posts--thumbnail-top elementor-widget elementor-widget-archive-posts\" data-id=\"4165494\" data-element_type=\"widget\" data-settings=\"{&quot;archive_classic_columns&quot;:&quot;1&quot;,&quot;archive_classic_row_gap&quot;:{&quot;unit&quot;:&quot;px&quot;,&quot;size&quot;:11,&quot;sizes&quot;:[]},&quot;archive_classic_columns_tablet&quot;:&quot;1&quot;,&quot;archive_classic_columns_mobile&quot;:&quot;1&quot;}\" data-widget_type=\"archive-posts.archive_classic\">')\n",
        "html = html[0]\n",
        "partes = html.split('<h3 class=\"elementor-post__title\">')\n",
        "\n",
        "# Criando os registros, com título e link, da primeira página\n",
        "for parte in partes: \n",
        "    subpartes = parte.split('</a>')\n",
        "    conteudo = subpartes[0]\n",
        "    titulo_materia = subpartes[1]\n",
        "    if '<a href=\"https://jornal.usp.br/ciencias/' not in conteudo:\n",
        "      continue\n",
        "    if tema not in conteudo: \n",
        "      continue   \n",
        "    dados = conteudo.split('=\"')\n",
        "    dados = dados[1]   \n",
        "    link, titulo = dados.split('\" >')\n",
        "    link = link.strip()\n",
        "    titulo = titulo.strip()\n",
        "    escritor.writerow({\"titulo\": titulo, \"link\": link})\n",
        "\n",
        "# Criando os registros, com link e título, das demais páginas correspondentes ao último ano \n",
        "paginas = list(range(1,23))\n",
        "\n",
        "for numero in paginas:\n",
        "  linkproxima = f\"https://jornal.usp.br/editorias/ciencias/ciencias-da-saude/page/{numero + 1}\"\n",
        "  url = linkproxima \n",
        "  resposta = requests.get(url)\n",
        "  html = resposta.text\n",
        "  html = html.split('</section>')\n",
        "  html = html[17]\n",
        "  html = html.split('<div class=\"elementor-element elementor-element-4165494 elementor-grid-1 elementor-grid-tablet-1 elementor-posts--align-left elementor-hidden-desktop elementor-hidden-tablet elementor-grid-mobile-1 elementor-posts--thumbnail-top elementor-widget elementor-widget-archive-posts\" data-id=\"4165494\" data-element_type=\"widget\" data-settings=\"{&quot;archive_classic_columns&quot;:&quot;1&quot;,&quot;archive_classic_row_gap&quot;:{&quot;unit&quot;:&quot;px&quot;,&quot;size&quot;:11,&quot;sizes&quot;:[]},&quot;archive_classic_columns_tablet&quot;:&quot;1&quot;,&quot;archive_classic_columns_mobile&quot;:&quot;1&quot;}\" data-widget_type=\"archive-posts.archive_classic\">')\n",
        "  html = html[0]\n",
        "  partes = html.split('<h3 class=\"elementor-post__title\">')\n",
        "\n",
        "  for parte in partes: \n",
        "      subpartes = parte.split('</a>')\n",
        "      conteudo = subpartes[0]\n",
        "      titulo_materia = subpartes[1]\n",
        "      if '<a href=\"https://jornal.usp.br/ciencias/' not in conteudo:\n",
        "        continue\n",
        "      if tema not in conteudo: \n",
        "        continue  \n",
        "      dados = conteudo.split('=\"')\n",
        "      dados = dados[1]\n",
        "      link, titulo = dados.split('\" >')\n",
        "      link = link.strip()\n",
        "      titulo = titulo.strip()  \n",
        "      escritor.writerow({\"titulo\": titulo, \"link\": link})\n",
        "\n",
        "arquivo.close()"
      ],
      "execution_count": null,
      "outputs": []
    },
    {
      "cell_type": "code",
      "metadata": {
        "id": "uaS6bLeFQjHW"
      },
      "source": [
        ""
      ],
      "execution_count": null,
      "outputs": []
    }
  ]
}